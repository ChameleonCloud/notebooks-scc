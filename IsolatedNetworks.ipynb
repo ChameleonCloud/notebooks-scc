{
 "cells": [
  {
   "cell_type": "code",
   "execution_count": 8,
   "id": "committed-values",
   "metadata": {},
   "outputs": [
    {
     "name": "stdout",
     "output_type": "stream",
     "text": [
      "Now using CHI@UC:\n",
      "URL: https://chi.uc.chameleoncloud.org\n",
      "Location: Argonne National Laboratory, Lemont, Illinois, USA\n",
      "Support contact: help@chameleoncloud.org\n"
     ]
    }
   ],
   "source": [
    "import chi\n",
    "import os\n",
    "\n",
    "#Config with your project and site\n",
    "chi.use_site(\"CHI@UC\")  # Optional, defaults to 'CHI@UC'\n",
    "chi.set(\"project_name\", \"CHI-210833\")  # Replace with your project name\n",
    "\n",
    "# Tip: Name resources with your username for easier identification\n",
    "username = os.getenv(\"USER\")\n",
    "server_name = username+'Server'\n",
    "network_name = username+'Net'\n",
    "subnet_name = username+'Subnet'\n",
    "router_name = username+'Router'\n",
    "lease_name = username+'Lease'\n",
    "\n",
    "#Insert keypair name\n",
    "key_name = 'msherman-laptop'  # Change to your keypair name"
   ]
  },
  {
   "cell_type": "code",
   "execution_count": 6,
   "id": "novel-latin",
   "metadata": {},
   "outputs": [],
   "source": [
    "from chi import lease\n",
    "reservations = []\n",
    "\n",
    "#Image to use on your servers\n",
    "image_name='CC-Ubuntu20.04-CUDA11'\n",
    "node_count = 2\n",
    "node_type = \"gpu_rtx_6000\"\n",
    "\n",
    "lease.add_node_reservation(reservations, count=node_count, node_type=node_type)\n",
    "lease.add_fip_reservation(reservations, count=node_count)\n",
    "\n",
    "lease.add_network_reservation(reservations, network_name)\n",
    "\n",
    "start_date, end_date = lease.lease_duration(days=1)\n",
    "\n",
    "leased_resources = lease.create_lease(lease_name, reservations, start_date=start_date, end_date=end_date)"
   ]
  },
  {
   "cell_type": "code",
   "execution_count": 7,
   "id": "exclusive-guide",
   "metadata": {},
   "outputs": [
    {
     "data": {
      "text/plain": [
       "{'network_id': 'a7ded07f-e1bb-4a2f-affe-2d29913b9d47',\n",
       " 'tenant_id': '09f6fb74a74245a6aa1e0d671eb30c95',\n",
       " 'subnet_id': '08d6a65d-d48f-44f0-93d4-76bf1120438e',\n",
       " 'subnet_ids': ['08d6a65d-d48f-44f0-93d4-76bf1120438e'],\n",
       " 'port_id': '3d455e03-8424-4766-8edb-967e0d7d98ea',\n",
       " 'id': 'b104abbe-35ba-4998-b9d6-ee6e1ed08c8c'}"
      ]
     },
     "execution_count": 7,
     "metadata": {},
     "output_type": "execute_result"
    }
   ],
   "source": [
    "from chi import network\n",
    "lease_id = leased_resources[\"id\"]\n",
    "lease.wait_for_active(lease_id)\n",
    "lease_server_id = lease.get_node_reservation(lease_id)\n",
    "\n",
    "network_id = lease.get_network_id(network_name)\n",
    "network.create_subnet(subnet_name, network_id)\n",
    "network.create_router(router_name, gw_network_name=network.PUBLIC_NETWORK)\n",
    "\n",
    "router_id = network.get_router_id(router_name)\n",
    "subnet_id = network.get_subnet_id(subnet_name)\n",
    "network.add_subnet_to_router(router_id, subnet_id)"
   ]
  },
  {
   "cell_type": "code",
   "execution_count": 9,
   "id": "ordinary-mercury",
   "metadata": {
    "tags": []
   },
   "outputs": [],
   "source": [
    "from chi import server\n",
    "server_obj = server.create_server(\"scc-test-server\", \n",
    "                                  reservation_id = lease_server_id,\n",
    "                                  network_name = network_name,\n",
    "                                  key_name = key_name,\n",
    "                                  image_name=image_name,\n",
    "                                  count = node_count\n",
    "                                 )"
   ]
  },
  {
   "cell_type": "code",
   "execution_count": 11,
   "id": "equal-highway",
   "metadata": {},
   "outputs": [
    {
     "ename": "ResourceFailure",
     "evalue": "Server:a23fa0a7-70fc-4d64-a0ad-c5bfa5876b7a transitioned to failure state ERROR",
     "output_type": "error",
     "traceback": [
      "\u001b[0;31m---------------------------------------------------------------------------\u001b[0m",
      "\u001b[0;31mResourceFailure\u001b[0m                           Traceback (most recent call last)",
      "\u001b[0;32m<ipython-input-11-106e4e65546c>\u001b[0m in \u001b[0;36m<module>\u001b[0;34m\u001b[0m\n\u001b[0;32m----> 1\u001b[0;31m \u001b[0mprint\u001b[0m\u001b[0;34m(\u001b[0m\u001b[0mserver\u001b[0m\u001b[0;34m.\u001b[0m\u001b[0mwait_for_active\u001b[0m\u001b[0;34m(\u001b[0m\u001b[0mserver_obj\u001b[0m\u001b[0;34m[\u001b[0m\u001b[0;36m0\u001b[0m\u001b[0;34m]\u001b[0m\u001b[0;34m.\u001b[0m\u001b[0mid\u001b[0m\u001b[0;34m)\u001b[0m\u001b[0;34m.\u001b[0m\u001b[0mstatus\u001b[0m\u001b[0;34m)\u001b[0m\u001b[0;34m\u001b[0m\u001b[0;34m\u001b[0m\u001b[0m\n\u001b[0m\u001b[1;32m      2\u001b[0m \u001b[0mprint\u001b[0m\u001b[0;34m(\u001b[0m\u001b[0mserver\u001b[0m\u001b[0;34m.\u001b[0m\u001b[0mwait_for_active\u001b[0m\u001b[0;34m(\u001b[0m\u001b[0mserver_obj\u001b[0m\u001b[0;34m[\u001b[0m\u001b[0;36m1\u001b[0m\u001b[0;34m]\u001b[0m\u001b[0;34m.\u001b[0m\u001b[0mid\u001b[0m\u001b[0;34m)\u001b[0m\u001b[0;34m.\u001b[0m\u001b[0mstatus\u001b[0m\u001b[0;34m)\u001b[0m\u001b[0;34m\u001b[0m\u001b[0;34m\u001b[0m\u001b[0m\n",
      "\u001b[0;32m/opt/conda/lib/python3.8/site-packages/chi/server.py\u001b[0m in \u001b[0;36mwait_for_active\u001b[0;34m(server_id, timeout)\u001b[0m\n\u001b[1;32m    506\u001b[0m     \u001b[0mcompute\u001b[0m \u001b[0;34m=\u001b[0m \u001b[0mconnection\u001b[0m\u001b[0;34m(\u001b[0m\u001b[0;34m)\u001b[0m\u001b[0;34m.\u001b[0m\u001b[0mcompute\u001b[0m\u001b[0;34m\u001b[0m\u001b[0;34m\u001b[0m\u001b[0m\n\u001b[1;32m    507\u001b[0m     \u001b[0mserver\u001b[0m \u001b[0;34m=\u001b[0m \u001b[0mcompute\u001b[0m\u001b[0;34m.\u001b[0m\u001b[0m_get_resource\u001b[0m\u001b[0;34m(\u001b[0m\u001b[0mServer\u001b[0m\u001b[0;34m,\u001b[0m \u001b[0mserver_id\u001b[0m\u001b[0;34m)\u001b[0m\u001b[0;34m\u001b[0m\u001b[0;34m\u001b[0m\u001b[0m\n\u001b[0;32m--> 508\u001b[0;31m     \u001b[0;32mreturn\u001b[0m \u001b[0mcompute\u001b[0m\u001b[0;34m.\u001b[0m\u001b[0mwait_for_server\u001b[0m\u001b[0;34m(\u001b[0m\u001b[0mserver\u001b[0m\u001b[0;34m,\u001b[0m \u001b[0mwait\u001b[0m\u001b[0;34m=\u001b[0m\u001b[0mtimeout\u001b[0m\u001b[0;34m)\u001b[0m\u001b[0;34m\u001b[0m\u001b[0;34m\u001b[0m\u001b[0m\n\u001b[0m\u001b[1;32m    509\u001b[0m \u001b[0;34m\u001b[0m\u001b[0m\n\u001b[1;32m    510\u001b[0m \u001b[0;34m\u001b[0m\u001b[0m\n",
      "\u001b[0;32m/opt/conda/lib/python3.8/site-packages/openstack/compute/v2/_proxy.py\u001b[0m in \u001b[0;36mwait_for_server\u001b[0;34m(self, server, status, failures, interval, wait)\u001b[0m\n\u001b[1;32m    949\u001b[0m         \"\"\"\n\u001b[1;32m    950\u001b[0m         \u001b[0mfailures\u001b[0m \u001b[0;34m=\u001b[0m \u001b[0;34m[\u001b[0m\u001b[0;34m'ERROR'\u001b[0m\u001b[0;34m]\u001b[0m \u001b[0;32mif\u001b[0m \u001b[0mfailures\u001b[0m \u001b[0;32mis\u001b[0m \u001b[0;32mNone\u001b[0m \u001b[0;32melse\u001b[0m \u001b[0mfailures\u001b[0m\u001b[0;34m\u001b[0m\u001b[0;34m\u001b[0m\u001b[0m\n\u001b[0;32m--> 951\u001b[0;31m         return resource.wait_for_status(\n\u001b[0m\u001b[1;32m    952\u001b[0m             self, server, status, failures, interval, wait)\n\u001b[1;32m    953\u001b[0m \u001b[0;34m\u001b[0m\u001b[0m\n",
      "\u001b[0;32m/opt/conda/lib/python3.8/site-packages/openstack/resource.py\u001b[0m in \u001b[0;36mwait_for_status\u001b[0;34m(session, resource, status, failures, interval, wait, attribute)\u001b[0m\n\u001b[1;32m   1948\u001b[0m             \u001b[0;32mreturn\u001b[0m \u001b[0mresource\u001b[0m\u001b[0;34m\u001b[0m\u001b[0;34m\u001b[0m\u001b[0m\n\u001b[1;32m   1949\u001b[0m         \u001b[0;32melif\u001b[0m \u001b[0mnormalized_status\u001b[0m \u001b[0;32min\u001b[0m \u001b[0mfailures\u001b[0m\u001b[0;34m:\u001b[0m\u001b[0;34m\u001b[0m\u001b[0;34m\u001b[0m\u001b[0m\n\u001b[0;32m-> 1950\u001b[0;31m             raise exceptions.ResourceFailure(\n\u001b[0m\u001b[1;32m   1951\u001b[0m                 \"{name} transitioned to failure state {status}\".format(\n\u001b[1;32m   1952\u001b[0m                     name=name, status=new_status))\n",
      "\u001b[0;31mResourceFailure\u001b[0m: Server:a23fa0a7-70fc-4d64-a0ad-c5bfa5876b7a transitioned to failure state ERROR"
     ]
    }
   ],
   "source": [
    "print(server.wait_for_active(server_obj[0].id).status)\n",
    "print(server.wait_for_active(server_obj[1].id).status)"
   ]
  },
  {
   "cell_type": "code",
   "execution_count": null,
   "id": "confidential-titanium",
   "metadata": {},
   "outputs": [],
   "source": [
    "ip_0 = server.associate_floating_ip(server_obj[0].id)\n",
    "ip_1 = server.associate_floating_ip(server_obj[1].id)"
   ]
  },
  {
   "cell_type": "code",
   "execution_count": null,
   "id": "medical-ozone",
   "metadata": {},
   "outputs": [],
   "source": [
    "server.wait_for_tcp(ip_0, 22)\n",
    "server.wait_for_tcp(ip_1, 22)\n"
   ]
  },
  {
   "cell_type": "code",
   "execution_count": null,
   "id": "refined-catch",
   "metadata": {},
   "outputs": [],
   "source": []
  }
 ],
 "metadata": {
  "kernelspec": {
   "display_name": "Python 3",
   "language": "python",
   "name": "python3"
  },
  "language_info": {
   "codemirror_mode": {
    "name": "ipython",
    "version": 3
   },
   "file_extension": ".py",
   "mimetype": "text/x-python",
   "name": "python",
   "nbconvert_exporter": "python",
   "pygments_lexer": "ipython3",
   "version": "3.8.8"
  }
 },
 "nbformat": 4,
 "nbformat_minor": 5
}
